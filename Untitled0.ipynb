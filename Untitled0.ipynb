{
  "nbformat": 4,
  "nbformat_minor": 0,
  "metadata": {
    "colab": {
      "provenance": [],
      "toc_visible": true
    },
    "kernelspec": {
      "name": "python3",
      "display_name": "Python 3"
    },
    "language_info": {
      "name": "python"
    }
  },
  "cells": [
    {
      "cell_type": "code",
      "execution_count": 1,
      "metadata": {
        "colab": {
          "base_uri": "https://localhost:8080/"
        },
        "id": "iqqSoGUPEiST",
        "outputId": "5827b096-f593-417b-db2b-69d7432aad87"
      },
      "outputs": [
        {
          "output_type": "stream",
          "name": "stdout",
          "text": [
            "Enter your first name: sai kumar\n",
            "Enter your last name: Podilapu\n",
            "Full Name: sai kumar Podilapu\n"
          ]
        }
      ],
      "source": [
        "def fullname(first_name, last_name):\n",
        "    return first_name + \" \" + last_name\n",
        "\n",
        "\n",
        "first_name = input(\"Enter your first name: \")\n",
        "last_name = input(\"Enter your last name: \")\n",
        "full_name = fullname(first_name, last_name)\n",
        "print(\"Full Name:\", full_name)\n"
      ]
    },
    {
      "cell_type": "code",
      "source": [
        "def string_alternative(full_name):\n",
        "    return full_name[::2]\n",
        "full_name = \"Good evening\"\n",
        "alternate_str = string_alternative(full_name)\n",
        "print(alternate_str)\n",
        "\n",
        "\n"
      ],
      "metadata": {
        "colab": {
          "base_uri": "https://localhost:8080/"
        },
        "id": "rxcElrR5EzCQ",
        "outputId": "c728f8c0-36c1-4b9f-eedd-63e23425a9b3"
      },
      "execution_count": 2,
      "outputs": [
        {
          "output_type": "stream",
          "name": "stdout",
          "text": [
            "Go vnn\n"
          ]
        }
      ]
    },
    {
      "cell_type": "markdown",
      "source": [
        "# New Section"
      ],
      "metadata": {
        "id": "w34SkaI4Gbe4"
      }
    }
  ]
}